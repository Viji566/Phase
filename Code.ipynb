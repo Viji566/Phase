{
  "nbformat": 4,
  "nbformat_minor": 0,
  "metadata": {
    "colab": {
      "provenance": [],
      "authorship_tag": "ABX9TyPv5riV9kUiZYb7kBvpVjPD",
      "include_colab_link": true
    },
    "kernelspec": {
      "name": "python3",
      "display_name": "Python 3"
    },
    "language_info": {
      "name": "python"
    }
  },
  "cells": [
    {
      "cell_type": "markdown",
      "metadata": {
        "id": "view-in-github",
        "colab_type": "text"
      },
      "source": [
        "<a href=\"https://colab.research.google.com/github/Viji566/Phase/blob/main/Code.ipynb\" target=\"_parent\"><img src=\"https://colab.research.google.com/assets/colab-badge.svg\" alt=\"Open In Colab\"/></a>"
      ]
    },
    {
      "cell_type": "code",
      "execution_count": null,
      "metadata": {
        "colab": {
          "base_uri": "https://localhost:8080/"
        },
        "id": "nCO7_tsPquqq",
        "outputId": "164be471-9cef-49c8-bb10-f1c6afffda07"
      },
      "outputs": [
        {
          "output_type": "stream",
          "name": "stdout",
          "text": [
            "                             Conversation  \\\n",
            "0                    I love this product!   \n",
            "1                   This product is okay.   \n",
            "2                    I hate this product.   \n",
            "3                This product is amazing!   \n",
            "4  I'm so disappointed with this product.   \n",
            "\n",
            "                                    Sentiment Scores Sentiment Label  \n",
            "0  {'neg': 0.0, 'neu': 0.308, 'pos': 0.692, 'comp...        Positive  \n",
            "1  {'neg': 0.0, 'neu': 0.612, 'pos': 0.388, 'comp...        Positive  \n",
            "2  {'neg': 0.649, 'neu': 0.351, 'pos': 0.0, 'comp...        Negative  \n",
            "3  {'neg': 0.0, 'neu': 0.423, 'pos': 0.577, 'comp...        Positive  \n",
            "4  {'neg': 0.404, 'neu': 0.596, 'pos': 0.0, 'comp...        Negative  \n"
          ]
        }
      ],
      "source": [
        "import pandas as pd\n",
        "import nltk\n",
        "from nltk.sentiment.vader import SentimentIntensityAnalyzer\n",
        "from nltk.corpus import stopwords\n",
        "from nltk.tokenize import word_tokenize\n",
        "from nltk.stem import WordNetLemmatizer\n",
        "import re\n",
        "\n",
        "data = {\n",
        "    \"Conversation\": [\n",
        "        \"I love this product!\",\n",
        "        \"This product is okay.\",\n",
        "        \"I hate this product.\",\n",
        "        \"This product is amazing!\",\n",
        "        \"I'm so disappointed with this product.\"\n",
        "    ]\n",
        "}\n",
        "\n",
        "\n",
        "df = pd.DataFrame(data)\n",
        "\n",
        "\n",
        "sia = SentimentIntensityAnalyzer()\n",
        "\n",
        "\n",
        "def calculate_sentiment(conversation):\n",
        "    scores = sia.polarity_scores(conversation)\n",
        "    return scores\n",
        "\n",
        "\n",
        "df['Sentiment Scores'] = df['Conversation'].apply(calculate_sentiment)\n",
        "\n",
        "\n",
        "def sentiment_label(scores):\n",
        "    if scores['compound'] >= 0.05:\n",
        "        return \"Positive\"\n",
        "    elif scores['compound'] <= -0.05:\n",
        "        return \"Negative\"\n",
        "    else:\n",
        "        return \"Neutral\"\n",
        "\n",
        "df['Sentiment Label'] = df['Sentiment Scores'].apply(sentiment_label)\n",
        "\n",
        "print(df)"
      ]
    },
    {
      "cell_type": "code",
      "source": [],
      "metadata": {
        "id": "l0zPpsGa543m"
      },
      "execution_count": null,
      "outputs": []
    },
    {
      "cell_type": "code",
      "source": [],
      "metadata": {
        "id": "Rc8Vuom-54_M"
      },
      "execution_count": null,
      "outputs": []
    },
    {
      "cell_type": "code",
      "source": [],
      "metadata": {
        "id": "pISqbStp55lb"
      },
      "execution_count": null,
      "outputs": []
    }
  ]
}